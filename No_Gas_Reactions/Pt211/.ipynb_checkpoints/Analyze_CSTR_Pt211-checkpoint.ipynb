{
 "cells": [
  {
   "cell_type": "code",
   "execution_count": 353,
   "metadata": {},
   "outputs": [],
   "source": [
    "import os\n",
    "import glob\n",
    "import itertools\n",
    "from random import randint\n",
    "import pandas as pd\n",
    "import numpy as np\n",
    "import csv\n",
    "import matplotlib.pyplot as plt\n",
    "from pathlib import Path\n",
    "import time\n",
    "\n",
    "import matplotlib.cm as cm\n",
    "from IPython.display import Image\n",
    "import git\n",
    "\n",
    "from rmgpy.molecule import Molecule\n",
    "from rmgpy.data.base import Database"
   ]
  },
  {
   "cell_type": "code",
   "execution_count": 354,
   "metadata": {},
   "outputs": [],
   "source": [
    "#Input file\n",
    "rmg_model_path = '../../../Pt211/'\n",
    "analysis_path = '../Pt211/results/'"
   ]
  },
  {
   "cell_type": "code",
   "execution_count": 355,
   "metadata": {},
   "outputs": [
    {
     "data": {
      "text/plain": [
       "'2021_6_26_119_a2616b_revised_Pt211_with_Nitrogen_Rebrov_41rxn'"
      ]
     },
     "execution_count": 355,
     "metadata": {},
     "output_type": "execute_result"
    }
   ],
   "source": [
    "#Git-python: checkout master branch\n",
    "import git\n",
    "repo = git.Repo(rmg_model_path)\n",
    "date = time.localtime(repo.head.commit.committed_date)\n",
    "git_date = f\"{date[0]}_{date[1]}_{date[2]}_{date[3]}{date[4]}\"\n",
    "git_sha = str(repo.head.commit)[0:6]\n",
    "git_msg = str(repo.head.commit.message)[0:50].replace(\" \", \"_\").replace(\"'\", \"_\").replace(\"\\n\", \"\")\n",
    "\n",
    "current_commit = f\"{git_date}_{git_sha}_{git_msg}\"\n",
    "\n",
    "current_commit"
   ]
  },
  {
   "cell_type": "code",
   "execution_count": 335,
   "metadata": {},
   "outputs": [],
   "source": [
    "# #checkout 1 commit back\n",
    "# repo.git.checkout('HEAD^1')\n",
    "# sha = str(repo.head.commit)\n",
    "# msg = str(repo.head.commit.message)\n",
    "# print(sha,': ', msg)\n",
    "\n",
    "# #checkout 2 commit back\n",
    "# repo = git.Repo('/work/westgroup/lee.ting/cantera/ammonia/')\n",
    "# repo.git.checkout('HEAD^1')\n",
    "# sha = repo.head.commit\n",
    "# msg = repo.head.commit.message\n",
    "# print(sha,': ', msg)"
   ]
  },
  {
   "cell_type": "code",
   "execution_count": 842,
   "metadata": {},
   "outputs": [
    {
     "name": "stdout",
     "output_type": "stream",
     "text": [
      "2021_6_26_119_a2616b_revised_Pt211_with_Nitrogen_Rebrov_41rxn/IdealGasReactor/results/Spinning_basket_area_0.01_energy_off_temp_1009.0909090909091.csv\n",
      "2021_6_26_119_a2616b_revised_Pt211_with_Nitrogen_Rebrov_41rxn/IdealGasReactor/results/Spinning_basket_area_0.01_energy_off_temp_1022.2222222222223.csv\n",
      "2021_6_26_119_a2616b_revised_Pt211_with_Nitrogen_Rebrov_41rxn/IdealGasReactor/results/Spinning_basket_area_0.01_energy_off_temp_1035.3535353535353.csv\n",
      "2021_6_26_119_a2616b_revised_Pt211_with_Nitrogen_Rebrov_41rxn/IdealGasReactor/results/Spinning_basket_area_0.01_energy_off_temp_1048.4848484848485.csv\n",
      "2021_6_26_119_a2616b_revised_Pt211_with_Nitrogen_Rebrov_41rxn/IdealGasReactor/results/Spinning_basket_area_0.01_energy_off_temp_1061.6161616161617.csv\n",
      "2021_6_26_119_a2616b_revised_Pt211_with_Nitrogen_Rebrov_41rxn/IdealGasReactor/results/Spinning_basket_area_0.01_energy_off_temp_1074.7474747474748.csv\n",
      "2021_6_26_119_a2616b_revised_Pt211_with_Nitrogen_Rebrov_41rxn/IdealGasReactor/results/Spinning_basket_area_0.01_energy_off_temp_1087.878787878788.csv\n",
      "2021_6_26_119_a2616b_revised_Pt211_with_Nitrogen_Rebrov_41rxn/IdealGasReactor/results/Spinning_basket_area_0.01_energy_off_temp_1101.0101010101012.csv\n",
      "2021_6_26_119_a2616b_revised_Pt211_with_Nitrogen_Rebrov_41rxn/IdealGasReactor/results/Spinning_basket_area_0.01_energy_off_temp_1114.1414141414143.csv\n",
      "2021_6_26_119_a2616b_revised_Pt211_with_Nitrogen_Rebrov_41rxn/IdealGasReactor/results/Spinning_basket_area_0.01_energy_off_temp_1127.2727272727273.csv\n",
      "2021_6_26_119_a2616b_revised_Pt211_with_Nitrogen_Rebrov_41rxn/IdealGasReactor/results/Spinning_basket_area_0.01_energy_off_temp_1140.4040404040404.csv\n",
      "2021_6_26_119_a2616b_revised_Pt211_with_Nitrogen_Rebrov_41rxn/IdealGasReactor/results/Spinning_basket_area_0.01_energy_off_temp_1153.5353535353536.csv\n",
      "2021_6_26_119_a2616b_revised_Pt211_with_Nitrogen_Rebrov_41rxn/IdealGasReactor/results/Spinning_basket_area_0.01_energy_off_temp_1166.6666666666665.csv\n",
      "2021_6_26_119_a2616b_revised_Pt211_with_Nitrogen_Rebrov_41rxn/IdealGasReactor/results/Spinning_basket_area_0.01_energy_off_temp_1179.7979797979797.csv\n",
      "2021_6_26_119_a2616b_revised_Pt211_with_Nitrogen_Rebrov_41rxn/IdealGasReactor/results/Spinning_basket_area_0.01_energy_off_temp_1192.9292929292928.csv\n",
      "2021_6_26_119_a2616b_revised_Pt211_with_Nitrogen_Rebrov_41rxn/IdealGasReactor/results/Spinning_basket_area_0.01_energy_off_temp_1206.060606060606.csv\n",
      "2021_6_26_119_a2616b_revised_Pt211_with_Nitrogen_Rebrov_41rxn/IdealGasReactor/results/Spinning_basket_area_0.01_energy_off_temp_1219.1919191919192.csv\n",
      "2021_6_26_119_a2616b_revised_Pt211_with_Nitrogen_Rebrov_41rxn/IdealGasReactor/results/Spinning_basket_area_0.01_energy_off_temp_1232.3232323232323.csv\n",
      "2021_6_26_119_a2616b_revised_Pt211_with_Nitrogen_Rebrov_41rxn/IdealGasReactor/results/Spinning_basket_area_0.01_energy_off_temp_1245.4545454545455.csv\n",
      "2021_6_26_119_a2616b_revised_Pt211_with_Nitrogen_Rebrov_41rxn/IdealGasReactor/results/Spinning_basket_area_0.01_energy_off_temp_1258.5858585858587.csv\n",
      "2021_6_26_119_a2616b_revised_Pt211_with_Nitrogen_Rebrov_41rxn/IdealGasReactor/results/Spinning_basket_area_0.01_energy_off_temp_1271.7171717171718.csv\n",
      "2021_6_26_119_a2616b_revised_Pt211_with_Nitrogen_Rebrov_41rxn/IdealGasReactor/results/Spinning_basket_area_0.01_energy_off_temp_1284.848484848485.csv\n",
      "2021_6_26_119_a2616b_revised_Pt211_with_Nitrogen_Rebrov_41rxn/IdealGasReactor/results/Spinning_basket_area_0.01_energy_off_temp_1297.9797979797981.csv\n",
      "2021_6_26_119_a2616b_revised_Pt211_with_Nitrogen_Rebrov_41rxn/IdealGasReactor/results/Spinning_basket_area_0.01_energy_off_temp_1311.111111111111.csv\n",
      "2021_6_26_119_a2616b_revised_Pt211_with_Nitrogen_Rebrov_41rxn/IdealGasReactor/results/Spinning_basket_area_0.01_energy_off_temp_1324.2424242424242.csv\n",
      "2021_6_26_119_a2616b_revised_Pt211_with_Nitrogen_Rebrov_41rxn/IdealGasReactor/results/Spinning_basket_area_0.01_energy_off_temp_1337.3737373737374.csv\n",
      "2021_6_26_119_a2616b_revised_Pt211_with_Nitrogen_Rebrov_41rxn/IdealGasReactor/results/Spinning_basket_area_0.01_energy_off_temp_1350.5050505050506.csv\n",
      "2021_6_26_119_a2616b_revised_Pt211_with_Nitrogen_Rebrov_41rxn/IdealGasReactor/results/Spinning_basket_area_0.01_energy_off_temp_1363.6363636363637.csv\n",
      "2021_6_26_119_a2616b_revised_Pt211_with_Nitrogen_Rebrov_41rxn/IdealGasReactor/results/Spinning_basket_area_0.01_energy_off_temp_1376.7676767676767.csv\n",
      "2021_6_26_119_a2616b_revised_Pt211_with_Nitrogen_Rebrov_41rxn/IdealGasReactor/results/Spinning_basket_area_0.01_energy_off_temp_1389.8989898989898.csv\n",
      "2021_6_26_119_a2616b_revised_Pt211_with_Nitrogen_Rebrov_41rxn/IdealGasReactor/results/Spinning_basket_area_0.01_energy_off_temp_1403.030303030303.csv\n",
      "2021_6_26_119_a2616b_revised_Pt211_with_Nitrogen_Rebrov_41rxn/IdealGasReactor/results/Spinning_basket_area_0.01_energy_off_temp_1416.1616161616162.csv\n",
      "2021_6_26_119_a2616b_revised_Pt211_with_Nitrogen_Rebrov_41rxn/IdealGasReactor/results/Spinning_basket_area_0.01_energy_off_temp_1429.2929292929293.csv\n",
      "2021_6_26_119_a2616b_revised_Pt211_with_Nitrogen_Rebrov_41rxn/IdealGasReactor/results/Spinning_basket_area_0.01_energy_off_temp_1442.4242424242425.csv\n",
      "2021_6_26_119_a2616b_revised_Pt211_with_Nitrogen_Rebrov_41rxn/IdealGasReactor/results/Spinning_basket_area_0.01_energy_off_temp_1455.5555555555557.csv\n",
      "2021_6_26_119_a2616b_revised_Pt211_with_Nitrogen_Rebrov_41rxn/IdealGasReactor/results/Spinning_basket_area_0.01_energy_off_temp_1468.6868686868686.csv\n",
      "2021_6_26_119_a2616b_revised_Pt211_with_Nitrogen_Rebrov_41rxn/IdealGasReactor/results/Spinning_basket_area_0.01_energy_off_temp_1481.8181818181818.csv\n",
      "2021_6_26_119_a2616b_revised_Pt211_with_Nitrogen_Rebrov_41rxn/IdealGasReactor/results/Spinning_basket_area_0.01_energy_off_temp_1494.949494949495.csv\n",
      "2021_6_26_119_a2616b_revised_Pt211_with_Nitrogen_Rebrov_41rxn/IdealGasReactor/results/Spinning_basket_area_0.01_energy_off_temp_1508.080808080808.csv\n",
      "2021_6_26_119_a2616b_revised_Pt211_with_Nitrogen_Rebrov_41rxn/IdealGasReactor/results/Spinning_basket_area_0.01_energy_off_temp_1521.2121212121212.csv\n",
      "2021_6_26_119_a2616b_revised_Pt211_with_Nitrogen_Rebrov_41rxn/IdealGasReactor/results/Spinning_basket_area_0.01_energy_off_temp_1534.3434343434344.csv\n",
      "2021_6_26_119_a2616b_revised_Pt211_with_Nitrogen_Rebrov_41rxn/IdealGasReactor/results/Spinning_basket_area_0.01_energy_off_temp_1547.4747474747476.csv\n",
      "2021_6_26_119_a2616b_revised_Pt211_with_Nitrogen_Rebrov_41rxn/IdealGasReactor/results/Spinning_basket_area_0.01_energy_off_temp_1560.6060606060605.csv\n",
      "2021_6_26_119_a2616b_revised_Pt211_with_Nitrogen_Rebrov_41rxn/IdealGasReactor/results/Spinning_basket_area_0.01_energy_off_temp_1573.7373737373737.csv\n",
      "2021_6_26_119_a2616b_revised_Pt211_with_Nitrogen_Rebrov_41rxn/IdealGasReactor/results/Spinning_basket_area_0.01_energy_off_temp_1586.8686868686868.csv\n",
      "2021_6_26_119_a2616b_revised_Pt211_with_Nitrogen_Rebrov_41rxn/IdealGasReactor/results/Spinning_basket_area_0.01_energy_off_temp_1600.0.csv\n",
      "2021_6_26_119_a2616b_revised_Pt211_with_Nitrogen_Rebrov_41rxn/IdealGasReactor/results/Spinning_basket_area_0.01_energy_off_temp_313.1313131313131.csv\n",
      "2021_6_26_119_a2616b_revised_Pt211_with_Nitrogen_Rebrov_41rxn/IdealGasReactor/results/Spinning_basket_area_0.01_energy_off_temp_326.26262626262627.csv\n",
      "2021_6_26_119_a2616b_revised_Pt211_with_Nitrogen_Rebrov_41rxn/IdealGasReactor/results/Spinning_basket_area_0.01_energy_off_temp_339.3939393939394.csv\n",
      "2021_6_26_119_a2616b_revised_Pt211_with_Nitrogen_Rebrov_41rxn/IdealGasReactor/results/Spinning_basket_area_0.01_energy_off_temp_352.52525252525254.csv\n",
      "2021_6_26_119_a2616b_revised_Pt211_with_Nitrogen_Rebrov_41rxn/IdealGasReactor/results/Spinning_basket_area_0.01_energy_off_temp_365.65656565656565.csv\n",
      "2021_6_26_119_a2616b_revised_Pt211_with_Nitrogen_Rebrov_41rxn/IdealGasReactor/results/Spinning_basket_area_0.01_energy_off_temp_378.78787878787875.csv\n",
      "2021_6_26_119_a2616b_revised_Pt211_with_Nitrogen_Rebrov_41rxn/IdealGasReactor/results/Spinning_basket_area_0.01_energy_off_temp_391.9191919191919.csv\n",
      "2021_6_26_119_a2616b_revised_Pt211_with_Nitrogen_Rebrov_41rxn/IdealGasReactor/results/Spinning_basket_area_0.01_energy_off_temp_405.0505050505051.csv\n",
      "2021_6_26_119_a2616b_revised_Pt211_with_Nitrogen_Rebrov_41rxn/IdealGasReactor/results/Spinning_basket_area_0.01_energy_off_temp_418.1818181818182.csv\n",
      "2021_6_26_119_a2616b_revised_Pt211_with_Nitrogen_Rebrov_41rxn/IdealGasReactor/results/Spinning_basket_area_0.01_energy_off_temp_431.3131313131313.csv\n",
      "2021_6_26_119_a2616b_revised_Pt211_with_Nitrogen_Rebrov_41rxn/IdealGasReactor/results/Spinning_basket_area_0.01_energy_off_temp_444.44444444444446.csv\n",
      "2021_6_26_119_a2616b_revised_Pt211_with_Nitrogen_Rebrov_41rxn/IdealGasReactor/results/Spinning_basket_area_0.01_energy_off_temp_457.57575757575756.csv\n",
      "2021_6_26_119_a2616b_revised_Pt211_with_Nitrogen_Rebrov_41rxn/IdealGasReactor/results/Spinning_basket_area_0.01_energy_off_temp_470.70707070707067.csv\n",
      "2021_6_26_119_a2616b_revised_Pt211_with_Nitrogen_Rebrov_41rxn/IdealGasReactor/results/Spinning_basket_area_0.01_energy_off_temp_483.83838383838383.csv\n",
      "2021_6_26_119_a2616b_revised_Pt211_with_Nitrogen_Rebrov_41rxn/IdealGasReactor/results/Spinning_basket_area_0.01_energy_off_temp_496.969696969697.csv\n",
      "2021_6_26_119_a2616b_revised_Pt211_with_Nitrogen_Rebrov_41rxn/IdealGasReactor/results/Spinning_basket_area_0.01_energy_off_temp_510.1010101010101.csv\n",
      "2021_6_26_119_a2616b_revised_Pt211_with_Nitrogen_Rebrov_41rxn/IdealGasReactor/results/Spinning_basket_area_0.01_energy_off_temp_523.2323232323232.csv\n",
      "2021_6_26_119_a2616b_revised_Pt211_with_Nitrogen_Rebrov_41rxn/IdealGasReactor/results/Spinning_basket_area_0.01_energy_off_temp_536.3636363636364.csv\n",
      "2021_6_26_119_a2616b_revised_Pt211_with_Nitrogen_Rebrov_41rxn/IdealGasReactor/results/Spinning_basket_area_0.01_energy_off_temp_549.4949494949495.csv\n",
      "2021_6_26_119_a2616b_revised_Pt211_with_Nitrogen_Rebrov_41rxn/IdealGasReactor/results/Spinning_basket_area_0.01_energy_off_temp_562.6262626262626.csv\n",
      "2021_6_26_119_a2616b_revised_Pt211_with_Nitrogen_Rebrov_41rxn/IdealGasReactor/results/Spinning_basket_area_0.01_energy_off_temp_575.7575757575758.csv\n",
      "2021_6_26_119_a2616b_revised_Pt211_with_Nitrogen_Rebrov_41rxn/IdealGasReactor/results/Spinning_basket_area_0.01_energy_off_temp_588.8888888888889.csv\n",
      "2021_6_26_119_a2616b_revised_Pt211_with_Nitrogen_Rebrov_41rxn/IdealGasReactor/results/Spinning_basket_area_0.01_energy_off_temp_602.0202020202021.csv\n",
      "2021_6_26_119_a2616b_revised_Pt211_with_Nitrogen_Rebrov_41rxn/IdealGasReactor/results/Spinning_basket_area_0.01_energy_off_temp_615.1515151515151.csv\n",
      "2021_6_26_119_a2616b_revised_Pt211_with_Nitrogen_Rebrov_41rxn/IdealGasReactor/results/Spinning_basket_area_0.01_energy_off_temp_628.2828282828283.csv\n",
      "2021_6_26_119_a2616b_revised_Pt211_with_Nitrogen_Rebrov_41rxn/IdealGasReactor/results/Spinning_basket_area_0.01_energy_off_temp_641.4141414141413.csv\n",
      "2021_6_26_119_a2616b_revised_Pt211_with_Nitrogen_Rebrov_41rxn/IdealGasReactor/results/Spinning_basket_area_0.01_energy_off_temp_654.5454545454545.csv\n",
      "2021_6_26_119_a2616b_revised_Pt211_with_Nitrogen_Rebrov_41rxn/IdealGasReactor/results/Spinning_basket_area_0.01_energy_off_temp_667.6767676767677.csv\n",
      "2021_6_26_119_a2616b_revised_Pt211_with_Nitrogen_Rebrov_41rxn/IdealGasReactor/results/Spinning_basket_area_0.01_energy_off_temp_680.8080808080808.csv\n",
      "2021_6_26_119_a2616b_revised_Pt211_with_Nitrogen_Rebrov_41rxn/IdealGasReactor/results/Spinning_basket_area_0.01_energy_off_temp_693.939393939394.csv\n",
      "2021_6_26_119_a2616b_revised_Pt211_with_Nitrogen_Rebrov_41rxn/IdealGasReactor/results/Spinning_basket_area_0.01_energy_off_temp_707.0707070707072.csv\n",
      "2021_6_26_119_a2616b_revised_Pt211_with_Nitrogen_Rebrov_41rxn/IdealGasReactor/results/Spinning_basket_area_0.01_energy_off_temp_720.2020202020202.csv\n",
      "2021_6_26_119_a2616b_revised_Pt211_with_Nitrogen_Rebrov_41rxn/IdealGasReactor/results/Spinning_basket_area_0.01_energy_off_temp_733.3333333333333.csv\n",
      "2021_6_26_119_a2616b_revised_Pt211_with_Nitrogen_Rebrov_41rxn/IdealGasReactor/results/Spinning_basket_area_0.01_energy_off_temp_746.4646464646464.csv\n",
      "2021_6_26_119_a2616b_revised_Pt211_with_Nitrogen_Rebrov_41rxn/IdealGasReactor/results/Spinning_basket_area_0.01_energy_off_temp_759.5959595959596.csv\n",
      "2021_6_26_119_a2616b_revised_Pt211_with_Nitrogen_Rebrov_41rxn/IdealGasReactor/results/Spinning_basket_area_0.01_energy_off_temp_772.7272727272727.csv\n",
      "2021_6_26_119_a2616b_revised_Pt211_with_Nitrogen_Rebrov_41rxn/IdealGasReactor/results/Spinning_basket_area_0.01_energy_off_temp_785.8585858585859.csv\n",
      "2021_6_26_119_a2616b_revised_Pt211_with_Nitrogen_Rebrov_41rxn/IdealGasReactor/results/Spinning_basket_area_0.01_energy_off_temp_798.9898989898991.csv\n",
      "2021_6_26_119_a2616b_revised_Pt211_with_Nitrogen_Rebrov_41rxn/IdealGasReactor/results/Spinning_basket_area_0.01_energy_off_temp_812.1212121212121.csv\n",
      "2021_6_26_119_a2616b_revised_Pt211_with_Nitrogen_Rebrov_41rxn/IdealGasReactor/results/Spinning_basket_area_0.01_energy_off_temp_825.2525252525253.csv\n",
      "2021_6_26_119_a2616b_revised_Pt211_with_Nitrogen_Rebrov_41rxn/IdealGasReactor/results/Spinning_basket_area_0.01_energy_off_temp_838.3838383838383.csv\n",
      "2021_6_26_119_a2616b_revised_Pt211_with_Nitrogen_Rebrov_41rxn/IdealGasReactor/results/Spinning_basket_area_0.01_energy_off_temp_851.5151515151515.csv\n",
      "2021_6_26_119_a2616b_revised_Pt211_with_Nitrogen_Rebrov_41rxn/IdealGasReactor/results/Spinning_basket_area_0.01_energy_off_temp_864.6464646464647.csv\n",
      "2021_6_26_119_a2616b_revised_Pt211_with_Nitrogen_Rebrov_41rxn/IdealGasReactor/results/Spinning_basket_area_0.01_energy_off_temp_877.7777777777778.csv\n",
      "2021_6_26_119_a2616b_revised_Pt211_with_Nitrogen_Rebrov_41rxn/IdealGasReactor/results/Spinning_basket_area_0.01_energy_off_temp_890.9090909090909.csv\n",
      "2021_6_26_119_a2616b_revised_Pt211_with_Nitrogen_Rebrov_41rxn/IdealGasReactor/results/Spinning_basket_area_0.01_energy_off_temp_904.040404040404.csv\n",
      "2021_6_26_119_a2616b_revised_Pt211_with_Nitrogen_Rebrov_41rxn/IdealGasReactor/results/Spinning_basket_area_0.01_energy_off_temp_917.1717171717172.csv\n",
      "2021_6_26_119_a2616b_revised_Pt211_with_Nitrogen_Rebrov_41rxn/IdealGasReactor/results/Spinning_basket_area_0.01_energy_off_temp_930.3030303030303.csv\n",
      "2021_6_26_119_a2616b_revised_Pt211_with_Nitrogen_Rebrov_41rxn/IdealGasReactor/results/Spinning_basket_area_0.01_energy_off_temp_943.4343434343434.csv\n",
      "2021_6_26_119_a2616b_revised_Pt211_with_Nitrogen_Rebrov_41rxn/IdealGasReactor/results/Spinning_basket_area_0.01_energy_off_temp_956.5656565656566.csv\n",
      "2021_6_26_119_a2616b_revised_Pt211_with_Nitrogen_Rebrov_41rxn/IdealGasReactor/results/Spinning_basket_area_0.01_energy_off_temp_969.6969696969697.csv\n",
      "2021_6_26_119_a2616b_revised_Pt211_with_Nitrogen_Rebrov_41rxn/IdealGasReactor/results/Spinning_basket_area_0.01_energy_off_temp_982.8282828282828.csv\n",
      "2021_6_26_119_a2616b_revised_Pt211_with_Nitrogen_Rebrov_41rxn/IdealGasReactor/results/Spinning_basket_area_0.01_energy_off_temp_995.959595959596.csv\n",
      "['2021_6_26_119_a2616b_revised_Pt211_with_Nitrogen_Rebrov_41rxn']\n"
     ]
    }
   ],
   "source": [
    "commit_list = []\n",
    "\n",
    "# read in each filename into dictionary. get a list of the commit folders in this repo\n",
    "for path in Path(analysis_path).rglob('*.csv'):\n",
    "    path_str = str(path)\n",
    "    start_index = path_str.find(analysis_path)\n",
    "    \n",
    "    if start_index != -1:\n",
    "        commit = path_str[(start_index+len(analysis_path)):]\n",
    "        print(commit)\n",
    "        if \"\\n\" in commit:\n",
    "            end_char = commit.index(\"\\n\")\n",
    "        else: \n",
    "            end_char = commit.index(\"/\")\n",
    "        \n",
    "        commit = commit[:end_char]\n",
    "        if commit not in commit_list:\n",
    "            commit_list.append(commit)\n",
    "        \n",
    "print(commit_list)   "
   ]
  },
  {
   "cell_type": "code",
   "execution_count": 905,
   "metadata": {
    "scrolled": true
   },
   "outputs": [
    {
     "name": "stdout",
     "output_type": "stream",
     "text": [
      "../Pt211/results/2021_6_26_119_a2616b_revised_Pt211_with_Nitrogen_Rebrov_41rxn/IdealGasReactor/results/Spinning_basket_area_0.01_energy_off_temp_1258.5858585858587.csv\n",
      "../Pt211/results/2021_6_26_119_a2616b_revised_Pt211_with_Nitrogen_Rebrov_41rxn/IdealGasReactor/results/Spinning_basket_area_0.01_energy_off_temp_1376.7676767676767.csv\n",
      "../Pt211/results/2021_6_26_119_a2616b_revised_Pt211_with_Nitrogen_Rebrov_41rxn/IdealGasReactor/results/Spinning_basket_area_0.01_energy_off_temp_1416.1616161616162.csv\n",
      "../Pt211/results/2021_6_26_119_a2616b_revised_Pt211_with_Nitrogen_Rebrov_41rxn/IdealGasReactor/results/Spinning_basket_area_0.01_energy_off_temp_1455.5555555555557.csv\n",
      "../Pt211/results/2021_6_26_119_a2616b_revised_Pt211_with_Nitrogen_Rebrov_41rxn/IdealGasReactor/results/Spinning_basket_area_0.01_energy_off_temp_339.3939393939394.csv\n",
      "../Pt211/results/2021_6_26_119_a2616b_revised_Pt211_with_Nitrogen_Rebrov_41rxn/IdealGasReactor/results/Spinning_basket_area_0.01_energy_off_temp_510.1010101010101.csv\n",
      "../Pt211/results/2021_6_26_119_a2616b_revised_Pt211_with_Nitrogen_Rebrov_41rxn/IdealGasReactor/results/Spinning_basket_area_0.01_energy_off_temp_536.3636363636364.csv\n",
      "../Pt211/results/2021_6_26_119_a2616b_revised_Pt211_with_Nitrogen_Rebrov_41rxn/IdealGasReactor/results/Spinning_basket_area_0.01_energy_off_temp_588.8888888888889.csv\n",
      "../Pt211/results/2021_6_26_119_a2616b_revised_Pt211_with_Nitrogen_Rebrov_41rxn/IdealGasReactor/results/Spinning_basket_area_0.01_energy_off_temp_641.4141414141413.csv\n",
      "../Pt211/results/2021_6_26_119_a2616b_revised_Pt211_with_Nitrogen_Rebrov_41rxn/IdealGasReactor/results/Spinning_basket_area_0.01_energy_off_temp_654.5454545454545.csv\n",
      "../Pt211/results/2021_6_26_119_a2616b_revised_Pt211_with_Nitrogen_Rebrov_41rxn/IdealGasReactor/results/Spinning_basket_area_0.01_energy_off_temp_707.0707070707072.csv\n",
      "../Pt211/results/2021_6_26_119_a2616b_revised_Pt211_with_Nitrogen_Rebrov_41rxn/IdealGasReactor/results/Spinning_basket_area_0.01_energy_off_temp_733.3333333333333.csv\n",
      "../Pt211/results/2021_6_26_119_a2616b_revised_Pt211_with_Nitrogen_Rebrov_41rxn/IdealGasReactor/results/Spinning_basket_area_0.01_energy_off_temp_759.5959595959596.csv\n",
      "../Pt211/results/2021_6_26_119_a2616b_revised_Pt211_with_Nitrogen_Rebrov_41rxn/IdealGasReactor/results/Spinning_basket_area_0.01_energy_off_temp_798.9898989898991.csv\n",
      "../Pt211/results/2021_6_26_119_a2616b_revised_Pt211_with_Nitrogen_Rebrov_41rxn/IdealGasReactor/results/Spinning_basket_area_0.01_energy_off_temp_851.5151515151515.csv\n"
     ]
    }
   ],
   "source": [
    "data_dict = {}\n",
    "\n",
    "# Read last line from each CSV file to get the outlet concentrations from the PFR\n",
    "# if \"one_commit\" is true, only run the master commit \n",
    "one_commit = False\n",
    "if one_commit == True:\n",
    "    commit_list = [current_commit]\n",
    "    \n",
    "for commit in commit_list:\n",
    "    first_file = True\n",
    "    for path in Path(f\"../Pt211/results/{current_commit}\").rglob('*.csv'):\n",
    "        path_str = str(path)\n",
    "        if os.stat(path_str).st_size >= 1e6:\n",
    "            if first_file == True: \n",
    "                data = pd.read_csv(path_str)\n",
    "                aggdata = data.tail(1)\n",
    "                first_file = False\n",
    "            else: \n",
    "                data = pd.read_csv(path_str)\n",
    "                aggdata = aggdata.append(data.tail(1))\n",
    "            data_dict.update({commit:aggdata})\n",
    "        else:\n",
    "            print(path_str)"
   ]
  },
  {
   "cell_type": "markdown",
   "metadata": {},
   "source": [
    "# For our selectivity definitions\n",
    "Two types of selectivity. Overall, and instantaneous. \n",
    "\n",
    "For overall selectivity, it depends on the total amounts exiting the packed bed. Probably what is measured experimentally from the PBR experiment (by measuring concentrations leaving the bed).\n",
    "\n",
    "$$ selectivity(N2) = \\frac{2 * moles_{N2}}{molesfed_{NH3} - moles_{NH3}} * 100\\%$$\n",
    "The 2 is because we are preserving (and counting) atoms of Nitrogen. Selectivity is \"What percentage of N atoms (from consuming ammonia) ended up as N2?\n",
    "\"\n",
    "\n",
    "$$ selectivity(N2O) = \\frac{2 * moles_{N2O}}{molesfed_{NH3} - moles_{NH3}} * 100\\%$$\n",
    "$$ selectivity(NO) = \\frac{moles_{NO}}{molesfed_{NH3} - moles_{NH3}} * 100\\%$$\n",
    "\n",
    "\n",
    "For instantaneous selectivity, it changes at different points in the packed bed. \n",
    "If we want the instantaneous selectivity evaluated at the exit of the bed, evaluate these expressions at the end of the bed (the last row):\n",
    "\n",
    "$$ selectivity(N2)  = \\frac{ 2 * net rate of production of N2}{-1 * net rate of production of NH3}$$\n",
    "$$ selectivity(N2O)  = \\frac{ 2 * net rate of production of N2O}{-1 * net rate of production of NH3}$$\n",
    "$$ selectivity(NO)  = \\frac{  net rate of production of NO}{-1 * net rate of production of NH3}$$\n"
   ]
  },
  {
   "cell_type": "code",
   "execution_count": 895,
   "metadata": {},
   "outputs": [],
   "source": [
    "# for commit in commit_list:\n",
    "#     data_dict[commit]['NH3(6) conversion (%)']= 100*(data_dict[commit]['X_nh3 initial'] - data_dict[commit]['NH3(6)'])/data_dict[commit]['X_nh3 initial']\n",
    "    \n",
    "#     S_N2 = (-2)*(data_dict[commit]['N2(4) ROP [kmol/m^3 s]']+data_dict[commit]['N2(4) surface ROP [kmol/m^2 s]'])\n",
    "#     S_NO = (-1)*(data_dict[commit]['NO(5) ROP [kmol/m^3 s]']+data_dict[commit]['NO(5) surface ROP [kmol/m^2 s]'])\n",
    "#     S_N2O = (-2)*(data_dict[commit]['N2O(7) ROP [kmol/m^3 s]']+data_dict[commit]['N2O(7) surface ROP [kmol/m^2 s]'])\n",
    "    \n",
    "#     data_dict[commit]['N2(4) Selectivity (%)'] = 100*S_N2 / (S_N2 + S_NO + S_N2O)\n",
    "#     data_dict[commit]['NO(5) Selectivity (%)'] = 100*S_NO / (S_N2 + S_NO + S_N2O)\n",
    "#     data_dict[commit]['N2O(7) Selectivity (%)'] = 100*S_N2O / (S_N2 + S_NO + S_N2O)\n",
    "\n",
    "#     data_dict[commit]['OX(11) Coverage']=data_dict[commit]['OX(11)']/(data_dict[commit]['OX(11)'] + data_dict[commit]['NX(12)'] + data_dict[commit]['NOX(10)']+  data_dict[commit]['X(1)'])\n",
    "#     data_dict[commit]['NOX(10) Coverage']=data_dict[commit]['NOX(10)']/(data_dict[commit]['OX(11)'] + data_dict[commit]['NX(12)'] + data_dict[commit]['NOX(10)']+  data_dict[commit]['X(1)'])\n",
    "#     data_dict[commit]['NX(12) Coverage']=data_dict[commit]['NX(12)']/(data_dict[commit]['OX(11)'] + data_dict[commit]['NX(12)'] + data_dict[commit]['NOX(10)']+  data_dict[commit]['X(1)'])\n",
    "#     data_dict[commit]['X Coverage']=data_dict[commit]['X(1)']/(data_dict[commit]['OX(11)'] + data_dict[commit]['NX(12)'] + data_dict[commit]['NOX(10)']+  data_dict[commit]['X(1)'])"
   ]
  },
  {
   "cell_type": "code",
   "execution_count": 896,
   "metadata": {
    "scrolled": true
   },
   "outputs": [],
   "source": [
    "# data_dict[commit].to_csv(\"schnedier_Pt211.csv\")\n",
    "# data_dict[commit]"
   ]
  },
  {
   "cell_type": "code",
   "execution_count": 897,
   "metadata": {},
   "outputs": [],
   "source": [
    "# data_dict[commit].plot.scatter(x='T (K)',y='NH3(6) conversion (%)',label='NH3(6) conversion (%)',color=\"r\")"
   ]
  },
  {
   "cell_type": "code",
   "execution_count": 898,
   "metadata": {
    "scrolled": false
   },
   "outputs": [],
   "source": [
    "# ax1 = data_dict[commit].plot.scatter(x='T (K)',y='N2O(7) Selectivity (%)',\n",
    "#                                      label='N2O',color='red')\n",
    "# ax2 = data_dict[commit].plot.scatter(x='T (K)',y='N2(4) Selectivity (%)',\n",
    "#                                      label='N2',color=\"blue\", ax=ax1)\n",
    "# ax3 = data_dict[commit].plot.scatter(x='T (K)',y='NO(5) Selectivity (%)',\n",
    "#                                      label='NO',color='orange', ax=ax1)\n",
    "# ax1.set_xlabel(\"Temperature (K)\")\n",
    "# ax1.set_ylabel(\"Selectivity (%)\")\n",
    "# #ax1.set_xlim(400, 1200)\n",
    "# ax1.set_ylim(-5, 105)\n",
    "# plt.show()"
   ]
  },
  {
   "cell_type": "code",
   "execution_count": 899,
   "metadata": {
    "scrolled": true
   },
   "outputs": [],
   "source": [
    "# ax1 = data_dict[commit].plot.scatter(x='T (K)',y='OX(11) Coverage',\n",
    "#                                      label='OX',color=\"r\")\n",
    "# ax2 = data_dict[commit].plot.scatter(x='T (K)',y='NOX(10) Coverage',\n",
    "#                                       label='NOX',color='orange', ax=ax1)\n",
    "# ax3 = data_dict[commit].plot.scatter(x='T (K)',y='NX(12) Coverage',\n",
    "#                                      label='NX',color='blue', ax=ax1)\n",
    "# ax4 = data_dict[commit].plot.scatter(x='T (K)',y='X Coverage',\n",
    "#                                       label='X(1)',color='gray', ax=ax1)\n",
    "# ax1.set_xlabel(\"Temperature (K)\")\n",
    "# ax1.set_ylabel(\"Coverage\")\n",
    "# ax1.set_xlim(350, 1600)\n",
    "# plt.show()"
   ]
  },
  {
   "cell_type": "code",
   "execution_count": 906,
   "metadata": {},
   "outputs": [],
   "source": [
    "for commit in commit_list:\n",
    "    data_dict[commit]['NH3(6) conversion (%)']= 100*(data_dict[commit]['X_nh3 initial'] - data_dict[commit]['NH3(6)'])/data_dict[commit]['X_nh3 initial']\n",
    "    \n",
    "    S_N2 = (-2)*(data_dict[commit]['N2(4) ROP [kmol/m^3 s]']+data_dict[commit]['N2(4) surface ROP [kmol/m^2 s]'])\n",
    "    S_NO = (-1)*(data_dict[commit]['NO(5) ROP [kmol/m^3 s]']+data_dict[commit]['NO(5) surface ROP [kmol/m^2 s]'])\n",
    "    S_N2O = (-2)*(data_dict[commit]['N2O(7) ROP [kmol/m^3 s]']+data_dict[commit]['N2O(7) surface ROP [kmol/m^2 s]'])\n",
    "    \n",
    "    data_dict[commit]['N2(4) Selectivity (%)'] = 100*S_N2 / (S_N2 + S_NO + S_N2O)\n",
    "    data_dict[commit]['NO(5) Selectivity (%)'] = 100*S_NO / (S_N2 + S_NO + S_N2O)\n",
    "    data_dict[commit]['N2O(7) Selectivity (%)'] = 100*S_N2O / (S_N2 + S_NO + S_N2O)\n",
    "\n",
    "    data_dict[commit]['OX Coverage']=data_dict[commit]['OX']/(data_dict[commit]['OX'] + data_dict[commit]['NX'] + data_dict[commit]['NOX']+  data_dict[commit]['X(1)'])\n",
    "    data_dict[commit]['NOX Coverage']=data_dict[commit]['NOX']/(data_dict[commit]['OX'] + data_dict[commit]['NX'] + data_dict[commit]['NOX']+  data_dict[commit]['X(1)'])\n",
    "    data_dict[commit]['NX Coverage']=data_dict[commit]['NX']/(data_dict[commit]['OX'] + data_dict[commit]['NX'] + data_dict[commit]['NOX']+  data_dict[commit]['X(1)'])\n",
    "    data_dict[commit]['X Coverage']=data_dict[commit]['X(1)']/(data_dict[commit]['OX'] + data_dict[commit]['NX'] + data_dict[commit]['NOX']+  data_dict[commit]['X(1)'])"
   ]
  },
  {
   "cell_type": "code",
   "execution_count": 907,
   "metadata": {},
   "outputs": [],
   "source": [
    "data_dict[commit].to_csv(\"schnedier_Pt211.csv\")"
   ]
  },
  {
   "cell_type": "code",
   "execution_count": 908,
   "metadata": {},
   "outputs": [
    {
     "data": {
      "text/plain": [
       "<AxesSubplot:xlabel='T (K)', ylabel='NH3(6) conversion (%)'>"
      ]
     },
     "execution_count": 908,
     "metadata": {},
     "output_type": "execute_result"
    },
    {
     "data": {
      "image/png": "[encoded data removed]",
      "text/plain": [
       "<Figure size 432x288 with 1 Axes>"
      ]
     },
     "metadata": {
      "needs_background": "light"
     },
     "output_type": "display_data"
    }
   ],
   "source": [
    "data_dict[commit].plot.scatter(x='T (K)',y='NH3(6) conversion (%)',label='NH3(6) conversion (%)',color=\"r\")"
   ]
  },
  {
   "cell_type": "code",
   "execution_count": 909,
   "metadata": {},
   "outputs": [
    {
     "data": {
      "image/png": "[encoded data removed]",
      "text/plain": [
       "<Figure size 432x288 with 1 Axes>"
      ]
     },
     "metadata": {
      "needs_background": "light"
     },
     "output_type": "display_data"
    }
   ],
   "source": [
    "ax1 = data_dict[commit].plot.scatter(x='T (K)',y='N2O(7) Selectivity (%)',\n",
    "                                     label='N2O',color='r')\n",
    "ax2 = data_dict[commit].plot.scatter(x='T (K)',y='N2(4) Selectivity (%)',\n",
    "                                     label='N2',color=\"blue\", ax=ax1)\n",
    "ax3 = data_dict[commit].plot.scatter(x='T (K)',y='NO(5) Selectivity (%)',\n",
    "                                     label='NO',color='orange', ax=ax1)\n",
    "ax1.set_xlabel(\"Temperature (K)\")\n",
    "ax1.set_ylabel(\"Selectivity (%)\")\n",
    "ax1.set_xlim(400, 1200)\n",
    "#ax1.set_ylim(-5, 105)\n",
    "plt.show()"
   ]
  },
  {
   "cell_type": "code",
   "execution_count": 910,
   "metadata": {},
   "outputs": [
    {
     "data": {
      "image/png": "[encoded data removed]",
      "text/plain": [
       "<Figure size 432x288 with 1 Axes>"
      ]
     },
     "metadata": {
      "needs_background": "light"
     },
     "output_type": "display_data"
    }
   ],
   "source": [
    "ax1 = data_dict[commit].plot.scatter(x='T (K)',y='OX Coverage',\n",
    "                                     label='OX',color=\"r\")\n",
    "ax2 = data_dict[commit].plot.scatter(x='T (K)',y='NOX Coverage',\n",
    "                                      label='NOX',color='orange', ax=ax1)\n",
    "ax3 = data_dict[commit].plot.scatter(x='T (K)',y='NX Coverage',\n",
    "                                     label='NX',color='blue', ax=ax1)\n",
    "ax4 = data_dict[commit].plot.scatter(x='T (K)',y='X Coverage',\n",
    "                                      label='X(1)',color='gray', ax=ax1)\n",
    "ax1.set_xlabel(\"Temperature (K)\")\n",
    "ax1.set_ylabel(\"Coverage\")\n",
    "ax1.set_xlim(400, 1200)\n",
    "\n",
    "plt.show()"
   ]
  },
  {
   "cell_type": "markdown",
   "metadata": {},
   "source": [
    "### Use this if run RMG on master"
   ]
  },
  {
   "cell_type": "code",
   "execution_count": 841,
   "metadata": {},
   "outputs": [
    {
     "ename": "NameError",
     "evalue": "name 'conversion_species' is not defined",
     "output_type": "error",
     "traceback": [
      "\u001b[0;31m---------------------------------------------------------------------------\u001b[0m",
      "\u001b[0;31mNameError\u001b[0m                                 Traceback (most recent call last)",
      "\u001b[0;32m<ipython-input-841-4889769d6bc7>\u001b[0m in \u001b[0;36m<module>\u001b[0;34m\u001b[0m\n\u001b[1;32m      1\u001b[0m \u001b[0;32mfor\u001b[0m \u001b[0mcommit\u001b[0m \u001b[0;32min\u001b[0m \u001b[0mcommit_list\u001b[0m\u001b[0;34m:\u001b[0m\u001b[0;34m\u001b[0m\u001b[0;34m\u001b[0m\u001b[0m\n\u001b[0;32m----> 2\u001b[0;31m     \u001b[0;32mfor\u001b[0m \u001b[0mi\u001b[0m \u001b[0;32min\u001b[0m \u001b[0mconversion_species\u001b[0m\u001b[0;34m:\u001b[0m\u001b[0;34m\u001b[0m\u001b[0;34m\u001b[0m\u001b[0m\n\u001b[0m\u001b[1;32m      3\u001b[0m         \u001b[0mdata_dict\u001b[0m\u001b[0;34m[\u001b[0m\u001b[0mcommit\u001b[0m\u001b[0;34m]\u001b[0m\u001b[0;34m[\u001b[0m\u001b[0;34m'NH3(6) conversion (%)'\u001b[0m\u001b[0;34m]\u001b[0m \u001b[0;34m=\u001b[0m \u001b[0;36m100\u001b[0m\u001b[0;34m*\u001b[0m\u001b[0;34m(\u001b[0m\u001b[0mdata_dict\u001b[0m\u001b[0;34m[\u001b[0m\u001b[0mcommit\u001b[0m\u001b[0;34m]\u001b[0m\u001b[0;34m[\u001b[0m\u001b[0;34m'X_nh3 initial'\u001b[0m\u001b[0;34m]\u001b[0m \u001b[0;34m-\u001b[0m \u001b[0mdata_dict\u001b[0m\u001b[0;34m[\u001b[0m\u001b[0mcommit\u001b[0m\u001b[0;34m]\u001b[0m\u001b[0;34m[\u001b[0m\u001b[0mi\u001b[0m\u001b[0;34m]\u001b[0m\u001b[0;34m)\u001b[0m\u001b[0;34m/\u001b[0m\u001b[0mdata_dict\u001b[0m\u001b[0;34m[\u001b[0m\u001b[0mcommit\u001b[0m\u001b[0;34m]\u001b[0m\u001b[0;34m[\u001b[0m\u001b[0;34m'X_nh3 initial'\u001b[0m\u001b[0;34m]\u001b[0m\u001b[0;34m\u001b[0m\u001b[0;34m\u001b[0m\u001b[0m\n\u001b[1;32m      4\u001b[0m \u001b[0;34m\u001b[0m\u001b[0m\n\u001b[1;32m      5\u001b[0m     \u001b[0;32mfor\u001b[0m \u001b[0mi\u001b[0m \u001b[0;32min\u001b[0m \u001b[0mselectivity_species\u001b[0m\u001b[0;34m:\u001b[0m\u001b[0;34m\u001b[0m\u001b[0;34m\u001b[0m\u001b[0m\n",
      "\u001b[0;31mNameError\u001b[0m: name 'conversion_species' is not defined"
     ]
    }
   ],
   "source": [
    "for commit in commit_list:\n",
    "    for i in conversion_species:\n",
    "        data_dict[commit]['NH3(6) conversion (%)'] = 100*(data_dict[commit]['X_nh3 initial'] - data_dict[commit][i])/data_dict[commit]['X_nh3 initial']\n",
    "    \n",
    "    for i in selectivity_species:\n",
    "        data_dict[commit][f'{i} Selectivity (%)'] = 100*(data_dict[commit][i])/(data_dict[commit]['X_nh3 initial'] - data_dict[commit]['NH3(6)'])\n",
    "\n",
    "    for i in coverage_species_1:\n",
    "        data_dict[commit][f'{i} Coverage'] = (data_dict[commit][i])/(data_dict[commit]['OX(10)'] + data_dict[commit]['HOX(13)']+ data_dict[commit]['X(1)'])\n",
    "    \n",
    "    for i in coverage_species_2:\n",
    "        data_dict[commit][f'{i} Coverage'] = (data_dict[commit][i])/(data_dict[commit]['NO_ads(27)'] + data_dict[commit]['N_ads(64)']+ data_dict[commit]['H3NX(29)']+ data_dict[commit]['X(1)'])\n",
    "        "
   ]
  },
  {
   "cell_type": "code",
   "execution_count": null,
   "metadata": {},
   "outputs": [],
   "source": [
    "ax1 = data_dict[commit].plot(x='X_nh3 initial',y='OX(10) Coverage',\n",
    "                                     label='O_X',color=\"orange\")\n",
    "ax2 = data_dict[commit].plot(x='X_nh3 initial',y='HOX(13) Coverage',\n",
    "                                     label='OH_X',color='g', ax=ax1)\n",
    "ax3 = data_dict[commit].plot(x='X_nh3 initial',y='X(1) Coverage',\n",
    "                                     label='X',color='blue', ax=ax1)\n",
    "ax1.set_xlabel(\"NH3(6) partial pressure (atm)\")\n",
    "ax1.set_ylabel(\"Coverage (%)\")\n",
    "plt.show()"
   ]
  },
  {
   "cell_type": "code",
   "execution_count": null,
   "metadata": {},
   "outputs": [],
   "source": [
    "ax1 = data_dict[commit].plot(x='X_nh3 initial',y='NO_ads(27) Coverage',\n",
    "                                     label='NO_X',color=\"r\")\n",
    "ax2 = data_dict[commit].plot(x='X_nh3 initial',y='N_ads(72) Coverage',\n",
    "                                     label='N_X',color='orange', ax=ax1)\n",
    "ax3 = data_dict[commit].plot(x='X_nh3 initial',y='H3NX(29) Coverage',\n",
    "                                     label='NH3_X',color='b', ax=ax1)\n",
    "ax4 = data_dict[commit].plot(x='X_nh3 initial',y='X Coverage',\n",
    "                                     label='X',color='g', ax=ax1)\n",
    "ax1.set_xlabel(\"NH3(6) partial pressure (atm)\")\n",
    "ax1.set_ylabel(\"Coverage (%)\")\n",
    "plt.show()"
   ]
  }
 ],
 "metadata": {
  "kernelspec": {
   "display_name": "rmg_env",
   "language": "python",
   "name": "rmg_env"
  },
  "language_info": {
   "codemirror_mode": {
    "name": "ipython",
    "version": 3
   },
   "file_extension": ".py",
   "mimetype": "text/x-python",
   "name": "python",
   "nbconvert_exporter": "python",
   "pygments_lexer": "ipython3",
   "version": "3.7.7"
  }
 },
 "nbformat": 4,
 "nbformat_minor": 4
}
