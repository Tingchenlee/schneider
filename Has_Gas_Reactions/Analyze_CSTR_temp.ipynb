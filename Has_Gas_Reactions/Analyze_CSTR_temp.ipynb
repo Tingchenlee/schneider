{
 "cells": [
  {
   "cell_type": "code",
   "execution_count": 1,
   "metadata": {},
   "outputs": [],
   "source": [
    "import os\n",
    "import glob\n",
    "import itertools\n",
    "from random import randint\n",
    "import pandas as pd\n",
    "import numpy as np\n",
    "import csv\n",
    "import matplotlib.pyplot as plt\n",
    "from pathlib import Path\n",
    "import time\n",
    "\n",
    "import matplotlib.cm as cm\n",
    "from IPython.display import Image\n",
    "import git\n",
    "\n",
    "from rmgpy.molecule import Molecule\n",
    "from rmgpy.data.base import Database"
   ]
  },
  {
   "cell_type": "code",
   "execution_count": 2,
   "metadata": {},
   "outputs": [],
   "source": [
    "#Input file\n",
    "rmg_model_path = '../../ammonia/'\n",
    "analysis_path = '../results/temp/'"
   ]
  },
  {
   "cell_type": "code",
   "execution_count": 3,
   "metadata": {},
   "outputs": [
    {
     "data": {
      "text/plain": [
       "'2021_6_15_2228_a95fb7_training_500_673K_O88N066_no_gas_families_with_NOx'"
      ]
     },
     "execution_count": 3,
     "metadata": {},
     "output_type": "execute_result"
    }
   ],
   "source": [
    "#Git-python: checkout master branch\n",
    "import git\n",
    "repo = git.Repo(rmg_model_path)\n",
    "date = time.localtime(repo.head.commit.committed_date)\n",
    "git_date = f\"{date[0]}_{date[1]}_{date[2]}_{date[3]}{date[4]}\"\n",
    "git_sha = str(repo.head.commit)[0:6]\n",
    "git_msg = str(repo.head.commit.message)[0:50].replace(\" \", \"_\").replace(\"'\", \"_\").replace(\"\\n\", \"\")\n",
    "\n",
    "current_commit = f\"{git_date}_{git_sha}_{git_msg}\"\n",
    "\n",
    "current_commit"
   ]
  },
  {
   "cell_type": "code",
   "execution_count": 11,
   "metadata": {},
   "outputs": [],
   "source": [
    "# #checkout 1 commit back\n",
    "# repo.git.checkout('HEAD^1')\n",
    "# sha = str(repo.head.commit)\n",
    "# msg = str(repo.head.commit.message)\n",
    "# print(sha,': ', msg)\n",
    "\n",
    "# #checkout 2 commit back\n",
    "# repo = git.Repo('/work/westgroup/lee.ting/cantera/ammonia/')\n",
    "# repo.git.checkout('HEAD^1')\n",
    "# sha = repo.head.commit\n",
    "# msg = repo.head.commit.message\n",
    "# print(sha,': ', msg)"
   ]
  },
  {
   "cell_type": "code",
   "execution_count": 12,
   "metadata": {},
   "outputs": [
    {
     "name": "stdout",
     "output_type": "stream",
     "text": [
      "2021_6_15_2228_a95fb7_training_500_673K_O88N066_no_gas_families_with_NOx/IdealGasReactor/energy_off/sensitivity_off/csp/CSP_Spinning_basket_area_0.000655_energy_off_temp_1000_O2_0_02_NH3_0_01.csv\n",
      "2021_6_15_2228_a95fb7_training_500_673K_O88N066_no_gas_families_with_NOx/IdealGasReactor/energy_off/sensitivity_off/csp/CSP_Spinning_basket_area_0.000655_energy_off_temp_1100_O2_0_02_NH3_0_01.csv\n",
      "2021_6_15_2228_a95fb7_training_500_673K_O88N066_no_gas_families_with_NOx/IdealGasReactor/energy_off/sensitivity_off/csp/CSP_Spinning_basket_area_0.000655_energy_off_temp_1200_O2_0_02_NH3_0_01.csv\n",
      "2021_6_15_2228_a95fb7_training_500_673K_O88N066_no_gas_families_with_NOx/IdealGasReactor/energy_off/sensitivity_off/csp/CSP_Spinning_basket_area_0.000655_energy_off_temp_1300_O2_0_02_NH3_0_01.csv\n",
      "2021_6_15_2228_a95fb7_training_500_673K_O88N066_no_gas_families_with_NOx/IdealGasReactor/energy_off/sensitivity_off/csp/CSP_Spinning_basket_area_0.000655_energy_off_temp_1400_O2_0_02_NH3_0_01.csv\n",
      "2021_6_15_2228_a95fb7_training_500_673K_O88N066_no_gas_families_with_NOx/IdealGasReactor/energy_off/sensitivity_off/csp/CSP_Spinning_basket_area_0.000655_energy_off_temp_1500_O2_0_02_NH3_0_01.csv\n",
      "2021_6_15_2228_a95fb7_training_500_673K_O88N066_no_gas_families_with_NOx/IdealGasReactor/energy_off/sensitivity_off/csp/CSP_Spinning_basket_area_0.000655_energy_off_temp_500_O2_0_02_NH3_0_01.csv\n",
      "2021_6_15_2228_a95fb7_training_500_673K_O88N066_no_gas_families_with_NOx/IdealGasReactor/energy_off/sensitivity_off/csp/CSP_Spinning_basket_area_0.000655_energy_off_temp_600_O2_0_02_NH3_0_01.csv\n",
      "2021_6_15_2228_a95fb7_training_500_673K_O88N066_no_gas_families_with_NOx/IdealGasReactor/energy_off/sensitivity_off/csp/CSP_Spinning_basket_area_0.000655_energy_off_temp_700_O2_0_02_NH3_0_01.csv\n",
      "2021_6_15_2228_a95fb7_training_500_673K_O88N066_no_gas_families_with_NOx/IdealGasReactor/energy_off/sensitivity_off/csp/CSP_Spinning_basket_area_0.000655_energy_off_temp_800_O2_0_02_NH3_0_01.csv\n",
      "2021_6_15_2228_a95fb7_training_500_673K_O88N066_no_gas_families_with_NOx/IdealGasReactor/energy_off/sensitivity_off/csp/CSP_Spinning_basket_area_0.000655_energy_off_temp_900_O2_0_02_NH3_0_01.csv\n",
      "2021_6_15_2228_a95fb7_training_500_673K_O88N066_no_gas_families_with_NOx/IdealGasReactor/energy_off/sensitivity_off/csp/CSP_Spinning_basket_area_6.55_energy_off_temp_500_O2_0_02_NH3_0_01.csv\n",
      "2021_6_15_2228_a95fb7_training_500_673K_O88N066_no_gas_families_with_NOx/IdealGasReactor/energy_off/sensitivity_off/results/Spinning_basket_area_0.000655_energy_off_temp_1000_O2_0_02_NH3_0_01.csv\n",
      "2021_6_15_2228_a95fb7_training_500_673K_O88N066_no_gas_families_with_NOx/IdealGasReactor/energy_off/sensitivity_off/results/Spinning_basket_area_0.000655_energy_off_temp_1100_O2_0_02_NH3_0_01.csv\n",
      "2021_6_15_2228_a95fb7_training_500_673K_O88N066_no_gas_families_with_NOx/IdealGasReactor/energy_off/sensitivity_off/results/Spinning_basket_area_0.000655_energy_off_temp_1200_O2_0_02_NH3_0_01.csv\n",
      "2021_6_15_2228_a95fb7_training_500_673K_O88N066_no_gas_families_with_NOx/IdealGasReactor/energy_off/sensitivity_off/results/Spinning_basket_area_0.000655_energy_off_temp_1300_O2_0_02_NH3_0_01.csv\n",
      "2021_6_15_2228_a95fb7_training_500_673K_O88N066_no_gas_families_with_NOx/IdealGasReactor/energy_off/sensitivity_off/results/Spinning_basket_area_0.000655_energy_off_temp_1400_O2_0_02_NH3_0_01.csv\n",
      "2021_6_15_2228_a95fb7_training_500_673K_O88N066_no_gas_families_with_NOx/IdealGasReactor/energy_off/sensitivity_off/results/Spinning_basket_area_0.000655_energy_off_temp_1500_O2_0_02_NH3_0_01.csv\n",
      "2021_6_15_2228_a95fb7_training_500_673K_O88N066_no_gas_families_with_NOx/IdealGasReactor/energy_off/sensitivity_off/results/Spinning_basket_area_0.000655_energy_off_temp_500_O2_0_02_NH3_0_01.csv\n",
      "2021_6_15_2228_a95fb7_training_500_673K_O88N066_no_gas_families_with_NOx/IdealGasReactor/energy_off/sensitivity_off/results/Spinning_basket_area_0.000655_energy_off_temp_600_O2_0_02_NH3_0_01.csv\n",
      "2021_6_15_2228_a95fb7_training_500_673K_O88N066_no_gas_families_with_NOx/IdealGasReactor/energy_off/sensitivity_off/results/Spinning_basket_area_0.000655_energy_off_temp_700_O2_0_02_NH3_0_01.csv\n",
      "2021_6_15_2228_a95fb7_training_500_673K_O88N066_no_gas_families_with_NOx/IdealGasReactor/energy_off/sensitivity_off/results/Spinning_basket_area_0.000655_energy_off_temp_800_O2_0_02_NH3_0_01.csv\n",
      "2021_6_15_2228_a95fb7_training_500_673K_O88N066_no_gas_families_with_NOx/IdealGasReactor/energy_off/sensitivity_off/results/Spinning_basket_area_0.000655_energy_off_temp_900_O2_0_02_NH3_0_01.csv\n",
      "['2021_6_15_2228_a95fb7_training_500_673K_O88N066_no_gas_families_with_NOx']\n"
     ]
    }
   ],
   "source": [
    "commit_list = []\n",
    "\n",
    "# read in each filename into dictionary. get a list of the commit folders in this repo\n",
    "for path in Path(analysis_path).rglob('*.csv'):\n",
    "    path_str = str(path)\n",
    "    start_index = path_str.find(analysis_path)\n",
    "    \n",
    "    if start_index != -1:\n",
    "        commit = path_str[(start_index+len(analysis_path)):]\n",
    "        print(commit)\n",
    "        if \"\\n\" in commit:\n",
    "            end_char = commit.index(\"\\n\")\n",
    "        else: \n",
    "            end_char = commit.index(\"/\")\n",
    "        \n",
    "        commit = commit[:end_char]\n",
    "        if commit not in commit_list:\n",
    "            commit_list.append(commit)\n",
    "        \n",
    "print(commit_list)   "
   ]
  },
  {
   "cell_type": "code",
   "execution_count": 18,
   "metadata": {
    "scrolled": true
   },
   "outputs": [
    {
     "name": "stdout",
     "output_type": "stream",
     "text": [
      "../schnedier/2021_6_15_2228_a95fb7_training_500_673K_O88N066_no_gas_families_with_NOx/IdealGasReactor/energy_off/sensitivity_off/csp/CSP_Spinning_basket_area_0.0655_energy_off_temp_1000_O2_0_02_NH3_0_01.csv\n",
      "../schnedier/2021_6_15_2228_a95fb7_training_500_673K_O88N066_no_gas_families_with_NOx/IdealGasReactor/energy_off/sensitivity_off/csp/CSP_Spinning_basket_area_0.0655_energy_off_temp_1100_O2_0_02_NH3_0_01.csv\n",
      "../schnedier/2021_6_15_2228_a95fb7_training_500_673K_O88N066_no_gas_families_with_NOx/IdealGasReactor/energy_off/sensitivity_off/csp/CSP_Spinning_basket_area_0.0655_energy_off_temp_1200_O2_0_02_NH3_0_01.csv\n",
      "../schnedier/2021_6_15_2228_a95fb7_training_500_673K_O88N066_no_gas_families_with_NOx/IdealGasReactor/energy_off/sensitivity_off/csp/CSP_Spinning_basket_area_0.0655_energy_off_temp_1300_O2_0_02_NH3_0_01.csv\n",
      "../schnedier/2021_6_15_2228_a95fb7_training_500_673K_O88N066_no_gas_families_with_NOx/IdealGasReactor/energy_off/sensitivity_off/csp/CSP_Spinning_basket_area_0.0655_energy_off_temp_1400_O2_0_02_NH3_0_01.csv\n",
      "../schnedier/2021_6_15_2228_a95fb7_training_500_673K_O88N066_no_gas_families_with_NOx/IdealGasReactor/energy_off/sensitivity_off/csp/CSP_Spinning_basket_area_0.0655_energy_off_temp_1500_O2_0_02_NH3_0_01.csv\n",
      "../schnedier/2021_6_15_2228_a95fb7_training_500_673K_O88N066_no_gas_families_with_NOx/IdealGasReactor/energy_off/sensitivity_off/csp/CSP_Spinning_basket_area_0.0655_energy_off_temp_500_O2_0_02_NH3_0_01.csv\n",
      "../schnedier/2021_6_15_2228_a95fb7_training_500_673K_O88N066_no_gas_families_with_NOx/IdealGasReactor/energy_off/sensitivity_off/csp/CSP_Spinning_basket_area_0.0655_energy_off_temp_600_O2_0_02_NH3_0_01.csv\n",
      "../schnedier/2021_6_15_2228_a95fb7_training_500_673K_O88N066_no_gas_families_with_NOx/IdealGasReactor/energy_off/sensitivity_off/csp/CSP_Spinning_basket_area_0.0655_energy_off_temp_700_O2_0_02_NH3_0_01.csv\n",
      "../schnedier/2021_6_15_2228_a95fb7_training_500_673K_O88N066_no_gas_families_with_NOx/IdealGasReactor/energy_off/sensitivity_off/csp/CSP_Spinning_basket_area_0.0655_energy_off_temp_800_O2_0_02_NH3_0_01.csv\n",
      "../schnedier/2021_6_15_2228_a95fb7_training_500_673K_O88N066_no_gas_families_with_NOx/IdealGasReactor/energy_off/sensitivity_off/csp/CSP_Spinning_basket_area_0.0655_energy_off_temp_900_O2_0_02_NH3_0_01.csv\n",
      "../schnedier/2021_6_15_2228_a95fb7_training_500_673K_O88N066_no_gas_families_with_NOx/IdealGasReactor/energy_off/sensitivity_off/results/Spinning_basket_area_0.0655_energy_off_temp_1000_O2_0_02_NH3_0_01.csv\n",
      "../schnedier/2021_6_15_2228_a95fb7_training_500_673K_O88N066_no_gas_families_with_NOx/IdealGasReactor/energy_off/sensitivity_off/results/Spinning_basket_area_0.0655_energy_off_temp_1100_O2_0_02_NH3_0_01.csv\n",
      "../schnedier/2021_6_15_2228_a95fb7_training_500_673K_O88N066_no_gas_families_with_NOx/IdealGasReactor/energy_off/sensitivity_off/results/Spinning_basket_area_0.0655_energy_off_temp_700_O2_0_02_NH3_0_01.csv\n"
     ]
    }
   ],
   "source": [
    "data_dict = {}\n",
    "\n",
    "# Read last line from each CSV file to get the outlet concentrations from the PFR\n",
    "# if \"one_commit\" is true, only run the master commit \n",
    "one_commit = False\n",
    "if one_commit == True:\n",
    "    commit_list = [current_commit]\n",
    "    \n",
    "for commit in commit_list:\n",
    "    first_file = True\n",
    "    for path in Path(f\"../schnedier/Has_Gas_Reactions/results/Pt111/temp/{current_commit}\").rglob('*.csv'):\n",
    "        path_str = str(path)\n",
    "        if os.stat(path_str).st_size >= 1e7:\n",
    "            if first_file == True: \n",
    "                data = pd.read_csv(path_str)\n",
    "                aggdata = data.tail(1)\n",
    "                first_file = False\n",
    "            else: \n",
    "                data = pd.read_csv(path_str)\n",
    "                aggdata = aggdata.append(data.tail(1))\n",
    "            data_dict.update({commit:aggdata})\n",
    "        else:\n",
    "            print(path_str)"
   ]
  },
  {
   "cell_type": "markdown",
   "metadata": {},
   "source": [
    "## Reproduce plots from Rebrov\n",
    "\n",
    "Rebrov, E. V., De Croon, M. H. J. M., & Schouten, J. C. (2002). Development of the kinetic model of platinum catalyzed ammonia oxidation in a microreactor. Chemical Engineering Journal, 90(1–2), 61–76. https://doi.org/10.1016/S1385-8947(02)00068-2\n",
    "\n",
    "\n",
    "for reference: \n",
    "\n",
    "### $conversion(\\%) = \\frac{moles\\_fed - moles\\_out}{moles\\_fed} $\n",
    "\n",
    "### $selectivity(\\%, N_2) = \\frac{(2*r_{L6}+r_{L13})100}{r_{L5}} $\n",
    "\n",
    "### $selectivity(\\%, N_{2}O) = \\frac{(2*r_{L7}-r_{L13})100}{r_{L5}} $"
   ]
  },
  {
   "cell_type": "markdown",
   "metadata": {},
   "source": [
    "# For our selectivity definitions\n",
    "Two types of selectivity. Overall, and instantaneous. \n",
    "\n",
    "For overall selectivity, it depends on the total amounts exiting the packed bed. Probably what is measured experimentally from the PBR experiment (by measuring concentrations leaving the bed).\n",
    "\n",
    "$$ selectivity(N2) = \\frac{2 * moles_{N2}}{molesfed_{NH3} - moles_{NH3}} * 100\\%$$\n",
    "The 2 is because we are preserving (and counting) atoms of Nitrogen. Selectivity is \"What percentage of N atoms (from consuming ammonia) ended up as N2?\n",
    "\"\n",
    "\n",
    "$$ selectivity(N2O) = \\frac{2 * moles_{N2O}}{molesfed_{NH3} - moles_{NH3}} * 100\\%$$\n",
    "$$ selectivity(NO) = \\frac{moles_{NO}}{molesfed_{NH3} - moles_{NH3}} * 100\\%$$\n",
    "\n",
    "\n",
    "For instantaneous selectivity, it changes at different points in the packed bed. \n",
    "If we want the instantaneous selectivity evaluated at the exit of the bed, evaluate these expressions at the end of the bed (the last row):\n",
    "\n",
    "$$ selectivity(N2)  = \\frac{ 2 * net rate of production of N2}{-1 * net rate of production of NH3}$$\n",
    "$$ selectivity(N2O)  = \\frac{ 2 * net rate of production of N2O}{-1 * net rate of production of NH3}$$\n",
    "$$ selectivity(NO)  = \\frac{  net rate of production of NO}{-1 * net rate of production of NH3}$$\n"
   ]
  },
  {
   "cell_type": "code",
   "execution_count": 19,
   "metadata": {},
   "outputs": [],
   "source": [
    "for commit in commit_list:\n",
    "    data_dict[commit]['NH3(6) conversion (%)']= 100*(data_dict[commit]['X_nh3 initial'] - data_dict[commit]['NH3(6)'])/data_dict[commit]['X_nh3 initial']\n",
    "    \n",
    "    S_N2 = ((-2)*(data_dict[commit]['N2(4) ROP [kmol/m^3 s]']+data_dict[commit]['N2(4) surface ROP [kmol/m^2 s]'])/\n",
    "            (data_dict[commit]['NH3(6) ROP [kmol/m^3 s]']+ data_dict[commit]['NH3(6) surface ROP [kmol/m^2 s]']))\n",
    "\n",
    "    S_NO = ((-1)*(data_dict[commit]['NO(5) ROP [kmol/m^3 s]']+data_dict[commit]['NO(5) surface ROP [kmol/m^2 s]'])/\n",
    "            (data_dict[commit]['NH3(6) ROP [kmol/m^3 s]']+ data_dict[commit]['NH3(6) surface ROP [kmol/m^2 s]']))\n",
    "\n",
    "    S_N2O = ((-2)*(data_dict[commit]['N2O(7) ROP [kmol/m^3 s]']+data_dict[commit]['N2O(7) surface ROP [kmol/m^2 s]'])/\n",
    "            (data_dict[commit]['NH3(6) ROP [kmol/m^3 s]']+ data_dict[commit]['NH3(6) surface ROP [kmol/m^2 s]']))\n",
    "    \n",
    "    data_dict[commit]['N2(4) Selectivity (%)'] = 100*S_N2 / (S_N2 + S_NO + S_N2O)\n",
    "    data_dict[commit]['NO(5) Selectivity (%)'] = 100*S_NO / (S_N2 + S_NO + S_N2O)\n",
    "    data_dict[commit]['N2O(7) Selectivity (%)'] = 100*S_N2O / (S_N2 + S_NO + S_N2O)\n",
    "\n",
    "    data_dict[commit]['O_X(9) Coverage']=data_dict[commit]['O_X(9)']/(data_dict[commit]['O_X(9)'] + data_dict[commit]['OH_X(11)']+ data_dict[commit]['X(1)'])\n",
    "    data_dict[commit]['OH_X(11) Coverage']=data_dict[commit]['OH_X(11)']/(data_dict[commit]['O_X(9)'] + data_dict[commit]['OH_X(11)']+ data_dict[commit]['X(1)'])\n",
    "    data_dict[commit]['X(1) Coverage']=data_dict[commit]['X(1)']/(data_dict[commit]['O_X(9)'] + data_dict[commit]['OH_X(11)']+ data_dict[commit]['X(1)'])\n",
    "    data_dict[commit]['NO_X(14) Coverage']=data_dict[commit]['NO_X(14)']/(data_dict[commit]['NO_X(14)'] + data_dict[commit]['N_X(13)']+ data_dict[commit]['NH3_X(8)']+ data_dict[commit]['X(1)'])\n",
    "    data_dict[commit]['N_X(13) Coverage']=data_dict[commit]['N_X(13)']/(data_dict[commit]['NO_X(14)'] + data_dict[commit]['N_X(13)']+ data_dict[commit]['NH3_X(8)']+ data_dict[commit]['X(1)'])\n",
    "    data_dict[commit]['NH3_X(8) Coverage']=data_dict[commit]['NH3_X(8)']/(data_dict[commit]['NO_X(14)'] + data_dict[commit]['N_X(13)']+ data_dict[commit]['NH3_X(8)']+ data_dict[commit]['X(1)'])\n",
    "    data_dict[commit]['X Coverage']=data_dict[commit]['X(1)']/(data_dict[commit]['NO_X(14)'] + data_dict[commit]['N_X(13)']+ data_dict[commit]['NH3_X(8)']+ data_dict[commit]['X(1)'])\n"
   ]
  },
  {
   "cell_type": "code",
   "execution_count": 20,
   "metadata": {
    "scrolled": true
   },
   "outputs": [
    {
     "data": {
      "text/html": [
       "<div>\n",
       "<style scoped>\n",
       "    .dataframe tbody tr th:only-of-type {\n",
       "        vertical-align: middle;\n",
       "    }\n",
       "\n",
       "    .dataframe tbody tr th {\n",
       "        vertical-align: top;\n",
       "    }\n",
       "\n",
       "    .dataframe thead th {\n",
       "        text-align: right;\n",
       "    }\n",
       "</style>\n",
       "<table border=\"1\" class=\"dataframe\">\n",
       "  <thead>\n",
       "    <tr style=\"text-align: right;\">\n",
       "      <th></th>\n",
       "      <th>T (K)</th>\n",
       "      <th>P (Pa)</th>\n",
       "      <th>V (M^3/s)</th>\n",
       "      <th>X_nh3 initial</th>\n",
       "      <th>X_o2 initial</th>\n",
       "      <th>X_h2o initial</th>\n",
       "      <th>(NH3/O2)</th>\n",
       "      <th>T (K) final</th>\n",
       "      <th>Rtol</th>\n",
       "      <th>Atol</th>\n",
       "      <th>...</th>\n",
       "      <th>N2(4) Selectivity (%)</th>\n",
       "      <th>NO(5) Selectivity (%)</th>\n",
       "      <th>N2O(7) Selectivity (%)</th>\n",
       "      <th>O_X(9) Coverage</th>\n",
       "      <th>OH_X(11) Coverage</th>\n",
       "      <th>X(1) Coverage</th>\n",
       "      <th>NO_X(14) Coverage</th>\n",
       "      <th>N_X(13) Coverage</th>\n",
       "      <th>NH3_X(8) Coverage</th>\n",
       "      <th>X Coverage</th>\n",
       "    </tr>\n",
       "  </thead>\n",
       "  <tbody>\n",
       "    <tr>\n",
       "      <th>9999</th>\n",
       "      <td>1200</td>\n",
       "      <td>101325.0</td>\n",
       "      <td>1.666667e-07</td>\n",
       "      <td>0.125</td>\n",
       "      <td>0.25</td>\n",
       "      <td>0.625</td>\n",
       "      <td>0.5</td>\n",
       "      <td>1200.0</td>\n",
       "      <td>1.000000e-12</td>\n",
       "      <td>1.000000e-15</td>\n",
       "      <td>...</td>\n",
       "      <td>1.789071e+02</td>\n",
       "      <td>-82.839718</td>\n",
       "      <td>3.932601</td>\n",
       "      <td>0.952248</td>\n",
       "      <td>4.636154e-06</td>\n",
       "      <td>4.774771e-02</td>\n",
       "      <td>0.001701</td>\n",
       "      <td>0.000012</td>\n",
       "      <td>1.740311e-09</td>\n",
       "      <td>0.998287</td>\n",
       "    </tr>\n",
       "    <tr>\n",
       "      <th>9999</th>\n",
       "      <td>1300</td>\n",
       "      <td>101325.0</td>\n",
       "      <td>1.666667e-07</td>\n",
       "      <td>0.125</td>\n",
       "      <td>0.25</td>\n",
       "      <td>0.625</td>\n",
       "      <td>0.5</td>\n",
       "      <td>1300.0</td>\n",
       "      <td>1.000000e-12</td>\n",
       "      <td>1.000000e-15</td>\n",
       "      <td>...</td>\n",
       "      <td>2.171572e+02</td>\n",
       "      <td>-102.335499</td>\n",
       "      <td>-14.821724</td>\n",
       "      <td>0.876052</td>\n",
       "      <td>1.005944e-05</td>\n",
       "      <td>1.239382e-01</td>\n",
       "      <td>0.001370</td>\n",
       "      <td>0.000030</td>\n",
       "      <td>2.061188e-10</td>\n",
       "      <td>0.998600</td>\n",
       "    </tr>\n",
       "    <tr>\n",
       "      <th>9999</th>\n",
       "      <td>1400</td>\n",
       "      <td>101325.0</td>\n",
       "      <td>1.666667e-07</td>\n",
       "      <td>0.125</td>\n",
       "      <td>0.25</td>\n",
       "      <td>0.625</td>\n",
       "      <td>0.5</td>\n",
       "      <td>1400.0</td>\n",
       "      <td>1.000000e-12</td>\n",
       "      <td>1.000000e-15</td>\n",
       "      <td>...</td>\n",
       "      <td>2.137066e+02</td>\n",
       "      <td>-101.883622</td>\n",
       "      <td>-11.822951</td>\n",
       "      <td>0.744269</td>\n",
       "      <td>1.792086e-05</td>\n",
       "      <td>2.557134e-01</td>\n",
       "      <td>0.000779</td>\n",
       "      <td>0.000043</td>\n",
       "      <td>4.131998e-11</td>\n",
       "      <td>0.999178</td>\n",
       "    </tr>\n",
       "    <tr>\n",
       "      <th>9999</th>\n",
       "      <td>1500</td>\n",
       "      <td>101325.0</td>\n",
       "      <td>1.666667e-07</td>\n",
       "      <td>0.125</td>\n",
       "      <td>0.25</td>\n",
       "      <td>0.625</td>\n",
       "      <td>0.5</td>\n",
       "      <td>1500.0</td>\n",
       "      <td>1.000000e-12</td>\n",
       "      <td>1.000000e-15</td>\n",
       "      <td>...</td>\n",
       "      <td>1.860281e+02</td>\n",
       "      <td>-88.391528</td>\n",
       "      <td>2.363454</td>\n",
       "      <td>0.576401</td>\n",
       "      <td>2.638566e-05</td>\n",
       "      <td>4.235724e-01</td>\n",
       "      <td>0.000283</td>\n",
       "      <td>0.000036</td>\n",
       "      <td>1.265244e-11</td>\n",
       "      <td>0.999682</td>\n",
       "    </tr>\n",
       "    <tr>\n",
       "      <th>9999</th>\n",
       "      <td>500</td>\n",
       "      <td>101325.0</td>\n",
       "      <td>1.666667e-07</td>\n",
       "      <td>0.125</td>\n",
       "      <td>0.25</td>\n",
       "      <td>0.625</td>\n",
       "      <td>0.5</td>\n",
       "      <td>500.0</td>\n",
       "      <td>1.000000e-12</td>\n",
       "      <td>1.000000e-15</td>\n",
       "      <td>...</td>\n",
       "      <td>-1.139935e-09</td>\n",
       "      <td>-0.000011</td>\n",
       "      <td>100.000011</td>\n",
       "      <td>1.000000</td>\n",
       "      <td>4.382652e-11</td>\n",
       "      <td>3.256602e-07</td>\n",
       "      <td>0.999732</td>\n",
       "      <td>0.000007</td>\n",
       "      <td>3.503490e-05</td>\n",
       "      <td>0.000227</td>\n",
       "    </tr>\n",
       "    <tr>\n",
       "      <th>9999</th>\n",
       "      <td>600</td>\n",
       "      <td>101325.0</td>\n",
       "      <td>1.666667e-07</td>\n",
       "      <td>0.125</td>\n",
       "      <td>0.25</td>\n",
       "      <td>0.625</td>\n",
       "      <td>0.5</td>\n",
       "      <td>600.0</td>\n",
       "      <td>1.000000e-12</td>\n",
       "      <td>1.000000e-15</td>\n",
       "      <td>...</td>\n",
       "      <td>-2.982480e-05</td>\n",
       "      <td>0.000120</td>\n",
       "      <td>99.999910</td>\n",
       "      <td>0.999999</td>\n",
       "      <td>3.834092e-10</td>\n",
       "      <td>1.233684e-06</td>\n",
       "      <td>0.997665</td>\n",
       "      <td>0.000011</td>\n",
       "      <td>2.587173e-05</td>\n",
       "      <td>0.002298</td>\n",
       "    </tr>\n",
       "    <tr>\n",
       "      <th>9999</th>\n",
       "      <td>800</td>\n",
       "      <td>101325.0</td>\n",
       "      <td>1.666667e-07</td>\n",
       "      <td>0.125</td>\n",
       "      <td>0.25</td>\n",
       "      <td>0.625</td>\n",
       "      <td>0.5</td>\n",
       "      <td>800.0</td>\n",
       "      <td>1.000000e-12</td>\n",
       "      <td>1.000000e-15</td>\n",
       "      <td>...</td>\n",
       "      <td>6.851857e-01</td>\n",
       "      <td>-0.679653</td>\n",
       "      <td>99.994467</td>\n",
       "      <td>0.999871</td>\n",
       "      <td>2.772686e-08</td>\n",
       "      <td>1.292183e-04</td>\n",
       "      <td>0.955582</td>\n",
       "      <td>0.000051</td>\n",
       "      <td>2.026386e-05</td>\n",
       "      <td>0.044347</td>\n",
       "    </tr>\n",
       "    <tr>\n",
       "      <th>9999</th>\n",
       "      <td>900</td>\n",
       "      <td>101325.0</td>\n",
       "      <td>1.666667e-07</td>\n",
       "      <td>0.125</td>\n",
       "      <td>0.25</td>\n",
       "      <td>0.625</td>\n",
       "      <td>0.5</td>\n",
       "      <td>900.0</td>\n",
       "      <td>1.000000e-12</td>\n",
       "      <td>1.000000e-15</td>\n",
       "      <td>...</td>\n",
       "      <td>-1.449224e+01</td>\n",
       "      <td>14.192925</td>\n",
       "      <td>100.299319</td>\n",
       "      <td>0.999247</td>\n",
       "      <td>1.393600e-07</td>\n",
       "      <td>7.526254e-04</td>\n",
       "      <td>0.876996</td>\n",
       "      <td>0.000109</td>\n",
       "      <td>1.099975e-05</td>\n",
       "      <td>0.122884</td>\n",
       "    </tr>\n",
       "  </tbody>\n",
       "</table>\n",
       "<p>8 rows × 217 columns</p>\n",
       "</div>"
      ],
      "text/plain": [
       "      T (K)    P (Pa)     V (M^3/s)  X_nh3 initial  X_o2 initial  \\\n",
       "9999   1200  101325.0  1.666667e-07          0.125          0.25   \n",
       "9999   1300  101325.0  1.666667e-07          0.125          0.25   \n",
       "9999   1400  101325.0  1.666667e-07          0.125          0.25   \n",
       "9999   1500  101325.0  1.666667e-07          0.125          0.25   \n",
       "9999    500  101325.0  1.666667e-07          0.125          0.25   \n",
       "9999    600  101325.0  1.666667e-07          0.125          0.25   \n",
       "9999    800  101325.0  1.666667e-07          0.125          0.25   \n",
       "9999    900  101325.0  1.666667e-07          0.125          0.25   \n",
       "\n",
       "      X_h2o initial  (NH3/O2)  T (K) final          Rtol          Atol  ...  \\\n",
       "9999          0.625       0.5       1200.0  1.000000e-12  1.000000e-15  ...   \n",
       "9999          0.625       0.5       1300.0  1.000000e-12  1.000000e-15  ...   \n",
       "9999          0.625       0.5       1400.0  1.000000e-12  1.000000e-15  ...   \n",
       "9999          0.625       0.5       1500.0  1.000000e-12  1.000000e-15  ...   \n",
       "9999          0.625       0.5        500.0  1.000000e-12  1.000000e-15  ...   \n",
       "9999          0.625       0.5        600.0  1.000000e-12  1.000000e-15  ...   \n",
       "9999          0.625       0.5        800.0  1.000000e-12  1.000000e-15  ...   \n",
       "9999          0.625       0.5        900.0  1.000000e-12  1.000000e-15  ...   \n",
       "\n",
       "     N2(4) Selectivity (%) NO(5) Selectivity (%)  N2O(7) Selectivity (%)  \\\n",
       "9999          1.789071e+02            -82.839718                3.932601   \n",
       "9999          2.171572e+02           -102.335499              -14.821724   \n",
       "9999          2.137066e+02           -101.883622              -11.822951   \n",
       "9999          1.860281e+02            -88.391528                2.363454   \n",
       "9999         -1.139935e-09             -0.000011              100.000011   \n",
       "9999         -2.982480e-05              0.000120               99.999910   \n",
       "9999          6.851857e-01             -0.679653               99.994467   \n",
       "9999         -1.449224e+01             14.192925              100.299319   \n",
       "\n",
       "      O_X(9) Coverage  OH_X(11) Coverage  X(1) Coverage  NO_X(14) Coverage  \\\n",
       "9999         0.952248       4.636154e-06   4.774771e-02           0.001701   \n",
       "9999         0.876052       1.005944e-05   1.239382e-01           0.001370   \n",
       "9999         0.744269       1.792086e-05   2.557134e-01           0.000779   \n",
       "9999         0.576401       2.638566e-05   4.235724e-01           0.000283   \n",
       "9999         1.000000       4.382652e-11   3.256602e-07           0.999732   \n",
       "9999         0.999999       3.834092e-10   1.233684e-06           0.997665   \n",
       "9999         0.999871       2.772686e-08   1.292183e-04           0.955582   \n",
       "9999         0.999247       1.393600e-07   7.526254e-04           0.876996   \n",
       "\n",
       "      N_X(13) Coverage  NH3_X(8) Coverage  X Coverage  \n",
       "9999          0.000012       1.740311e-09    0.998287  \n",
       "9999          0.000030       2.061188e-10    0.998600  \n",
       "9999          0.000043       4.131998e-11    0.999178  \n",
       "9999          0.000036       1.265244e-11    0.999682  \n",
       "9999          0.000007       3.503490e-05    0.000227  \n",
       "9999          0.000011       2.587173e-05    0.002298  \n",
       "9999          0.000051       2.026386e-05    0.044347  \n",
       "9999          0.000109       1.099975e-05    0.122884  \n",
       "\n",
       "[8 rows x 217 columns]"
      ]
     },
     "execution_count": 20,
     "metadata": {},
     "output_type": "execute_result"
    }
   ],
   "source": [
    "data_dict[commit].to_csv(\"schnedier_temp.csv\")\n",
    "data_dict[commit]"
   ]
  },
  {
   "cell_type": "code",
   "execution_count": 21,
   "metadata": {},
   "outputs": [
    {
     "data": {
      "text/plain": [
       "<AxesSubplot:xlabel='T (K)', ylabel='NH3(6) conversion (%)'>"
      ]
     },
     "execution_count": 21,
     "metadata": {},
     "output_type": "execute_result"
    },
    {
     "data": {
      "image/png": "[encoded data removed]",
      "text/plain": [
       "<Figure size 432x288 with 1 Axes>"
      ]
     },
     "metadata": {
      "needs_background": "light"
     },
     "output_type": "display_data"
    }
   ],
   "source": [
    "data_dict[commit].plot.scatter(x='T (K)',y='NH3(6) conversion (%)',label='NH3(6) conversion (%)',color=\"r\")"
   ]
  },
  {
   "cell_type": "code",
   "execution_count": 22,
   "metadata": {
    "scrolled": false
   },
   "outputs": [
    {
     "data": {
      "image/png": "[encoded data removed]",
      "text/plain": [
       "<Figure size 432x288 with 1 Axes>"
      ]
     },
     "metadata": {
      "needs_background": "light"
     },
     "output_type": "display_data"
    }
   ],
   "source": [
    "ax1 = data_dict[commit].plot.scatter(x='T (K)',y='N2(4) Selectivity (%)',\n",
    "                                     label='N2',color=\"orange\")\n",
    "ax2 = data_dict[commit].plot.scatter(x='T (K)',y='N2O(7) Selectivity (%)',\n",
    "                                     label='N2O',color='g', ax=ax1)\n",
    "ax3 = data_dict[commit].plot.scatter(x='T (K)',y='NO(5) Selectivity (%)',\n",
    "                                     label='NO',color='blue', ax=ax1)\n",
    "ax1.set_xlabel(\"Temperature (K)\")\n",
    "ax1.set_ylabel(\"Selectivity (%)\")\n",
    "plt.show()"
   ]
  },
  {
   "cell_type": "code",
   "execution_count": 24,
   "metadata": {},
   "outputs": [
    {
     "data": {
      "image/png": "[encoded data removed]",
      "text/plain": [
       "<Figure size 432x288 with 1 Axes>"
      ]
     },
     "metadata": {
      "needs_background": "light"
     },
     "output_type": "display_data"
    }
   ],
   "source": [
    "ax1 = data_dict[commit].plot.scatter(x='T (K)',y='O_X(9) Coverage',\n",
    "                                     label='O_X',color=\"orange\")\n",
    "ax2 = data_dict[commit].plot.scatter(x='T (K)',y='OH_X(11) Coverage',\n",
    "                                     label='OH_X',color='g', ax=ax1)\n",
    "ax3 = data_dict[commit].plot.scatter(x='T (K)',y='X(1) Coverage',\n",
    "                                     label='X',color='blue', ax=ax1)\n",
    "ax1.set_xlabel(\"Temperature (K)\")\n",
    "ax1.set_ylabel(\"Coverage\")\n",
    "plt.show()"
   ]
  },
  {
   "cell_type": "code",
   "execution_count": 25,
   "metadata": {},
   "outputs": [
    {
     "data": {
      "image/png": "[encoded data removed]",
      "text/plain": [
       "<Figure size 432x288 with 1 Axes>"
      ]
     },
     "metadata": {
      "needs_background": "light"
     },
     "output_type": "display_data"
    }
   ],
   "source": [
    "ax1 = data_dict[commit].plot.scatter(x='T (K)',y='NO_X(14) Coverage',\n",
    "                                     label='NO_X',color=\"r\")\n",
    "ax2 = data_dict[commit].plot.scatter(x='T (K)',y='N_X(13) Coverage',\n",
    "                                     label='N_X',color='orange', ax=ax1)\n",
    "ax3 = data_dict[commit].plot.scatter(x='T (K)',y='NH3_X(8) Coverage',\n",
    "                                     label='NH3_X',color='b', ax=ax1)\n",
    "ax4 = data_dict[commit].plot.scatter(x='T (K)',y='X Coverage',\n",
    "                                     label='X',color='g', ax=ax1)\n",
    "ax1.set_xlabel(\"Temperature (K)\")\n",
    "ax1.set_ylabel(\"Coverage\")\n",
    "plt.show()"
   ]
  },
  {
   "cell_type": "markdown",
   "metadata": {},
   "source": [
    "### For Rebrov's selectivity definitions:"
   ]
  },
  {
   "cell_type": "code",
   "execution_count": null,
   "metadata": {},
   "outputs": [],
   "source": [
    "for commit in commit_list:\n",
    "    L5 = data_dict[commit]['NH3_X(8) + O_X(9) <=> NH2_X(10) + OH_X(11) ROP [kmol/m^2 s]']+data_dict[commit]['NH2_X(10) + O_X(9) <=> NH_X(12) + OH_X(11) ROP [kmol/m^2 s]']+data_dict[commit]['NH_X(12) + O_X(9) <=> N_X(13) + OH_X(11) ROP [kmol/m^2 s]']\n",
    "    L6 = data_dict[commit]['2 N_X(13) <=> N2(4) + 2 X(1) ROP [kmol/m^2 s]']\n",
    "    L7 =  data_dict[commit]['NO_X(14) + N_X(13) <=> N2O(7) + 2 X(1) ROP [kmol/m^2 s]']\n",
    "    L12 = data_dict[commit]['NO_X(14) <=> NO(5) + X(1) ROP [kmol/m^2 s]']\n",
    "    L13 = data_dict[commit]['N2O(7) + X(1) <=> N2(4) + O_X(9) ROP [kmol/m^2 s]'] \n",
    "\n",
    "    S_N2 = 2*(L6+L13)/L5\n",
    "    S_N2O = 2*(L7-L13)/L5\n",
    "    S_NO = 1*L12/L5\n",
    "    data_dict[commit]['N2(4) Selectivity (%)'] = 100*S_N2 / (S_N2 + S_NO + S_N2O)\n",
    "    data_dict[commit]['NO(5) Selectivity (%)'] = 100*S_NO / (S_N2 + S_NO + S_N2O)\n",
    "    data_dict[commit]['N2O(7) Selectivity (%)'] = 100*S_N2O / (S_N2 + S_NO + S_N2O)\n",
    "\n",
    "# data_dict[commit]['N2(4) Selectivity (%)']\n",
    "# data_dict[commit]['NO(5) Selectivity (%)']\n",
    "# data_dict[commit]['N2O(7) Selectivity (%)']"
   ]
  },
  {
   "cell_type": "markdown",
   "metadata": {},
   "source": [
    "### Use this if run RMG on master"
   ]
  },
  {
   "cell_type": "code",
   "execution_count": null,
   "metadata": {},
   "outputs": [],
   "source": [
    "for commit in commit_list:\n",
    "    for i in conversion_species:\n",
    "        data_dict[commit]['NH3(6) conversion (%)'] = 100*(data_dict[commit]['X_nh3 initial'] - data_dict[commit][i])/data_dict[commit]['X_nh3 initial']\n",
    "    \n",
    "    for i in selectivity_species:\n",
    "        data_dict[commit][f'{i} Selectivity (%)'] = 100*(data_dict[commit][i])/(data_dict[commit]['X_nh3 initial'] - data_dict[commit]['NH3(6)'])\n",
    "\n",
    "    for i in coverage_species_1:\n",
    "        data_dict[commit][f'{i} Coverage'] = (data_dict[commit][i])/(data_dict[commit]['OX(10)'] + data_dict[commit]['HOX(13)']+ data_dict[commit]['X(1)'])\n",
    "    \n",
    "    for i in coverage_species_2:\n",
    "        data_dict[commit][f'{i} Coverage'] = (data_dict[commit][i])/(data_dict[commit]['NO_ads(27)'] + data_dict[commit]['N_ads(64)']+ data_dict[commit]['H3NX(29)']+ data_dict[commit]['X(1)'])\n",
    "        "
   ]
  },
  {
   "cell_type": "code",
   "execution_count": null,
   "metadata": {},
   "outputs": [],
   "source": [
    "ax1 = data_dict[commit].plot(x='X_nh3 initial',y='OX(10) Coverage',\n",
    "                                     label='O_X',color=\"orange\")\n",
    "ax2 = data_dict[commit].plot(x='X_nh3 initial',y='HOX(13) Coverage',\n",
    "                                     label='OH_X',color='g', ax=ax1)\n",
    "ax3 = data_dict[commit].plot(x='X_nh3 initial',y='X(1) Coverage',\n",
    "                                     label='X',color='blue', ax=ax1)\n",
    "ax1.set_xlabel(\"NH3(6) partial pressure (atm)\")\n",
    "ax1.set_ylabel(\"Coverage (%)\")\n",
    "plt.show()"
   ]
  },
  {
   "cell_type": "code",
   "execution_count": null,
   "metadata": {},
   "outputs": [],
   "source": [
    "ax1 = data_dict[commit].plot(x='X_nh3 initial',y='NO_ads(27) Coverage',\n",
    "                                     label='NO_X',color=\"r\")\n",
    "ax2 = data_dict[commit].plot(x='X_nh3 initial',y='N_ads(72) Coverage',\n",
    "                                     label='N_X',color='orange', ax=ax1)\n",
    "ax3 = data_dict[commit].plot(x='X_nh3 initial',y='H3NX(29) Coverage',\n",
    "                                     label='NH3_X',color='b', ax=ax1)\n",
    "ax4 = data_dict[commit].plot(x='X_nh3 initial',y='X Coverage',\n",
    "                                     label='X',color='g', ax=ax1)\n",
    "ax1.set_xlabel(\"NH3(6) partial pressure (atm)\")\n",
    "ax1.set_ylabel(\"Coverage (%)\")\n",
    "plt.show()"
   ]
  }
 ],
 "metadata": {
  "kernelspec": {
   "display_name": "rmg_env",
   "language": "python",
   "name": "rmg_env"
  },
  "language_info": {
   "codemirror_mode": {
    "name": "ipython",
    "version": 3
   },
   "file_extension": ".py",
   "mimetype": "text/x-python",
   "name": "python",
   "nbconvert_exporter": "python",
   "pygments_lexer": "ipython3",
   "version": "3.7.7"
  }
 },
 "nbformat": 4,
 "nbformat_minor": 4
}
